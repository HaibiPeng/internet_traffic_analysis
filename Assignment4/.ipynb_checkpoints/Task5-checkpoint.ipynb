{
 "cells": [
  {
   "cell_type": "code",
   "execution_count": 1,
   "metadata": {},
   "outputs": [],
   "source": [
    "import numpy as np\n",
    "import pandas as pd\n",
    "import matplotlib.pyplot as plt\n",
    "import matplotlib\n",
    "import time"
   ]
  },
  {
   "cell_type": "code",
   "execution_count": 18,
   "metadata": {},
   "outputs": [
    {
     "name": "stdout",
     "output_type": "stream",
     "text": [
      "                   src             dst  proto   ok  sport  dport  pkts  bytes  \\\n",
      "0       203.246.146.19    106.22.48.22    1.0  1.0    8.0    0.0   1.0   32.0   \n",
      "1       203.246.146.19   218.201.19.92    1.0  1.0    8.0    0.0   1.0    NaN   \n",
      "2       176.52.159.166  203.246.146.19    1.0  1.0    0.0    0.0   1.0   32.0   \n",
      "3       203.246.146.19       5.57.5.49    1.0  1.0    8.0    0.0   1.0   32.0   \n",
      "4       203.246.146.19  217.226.102.29    1.0  1.0    8.0    0.0   1.0   32.0   \n",
      "...                ...             ...    ...  ...    ...    ...   ...    ...   \n",
      "99994  111.128.229.166  203.246.146.19    1.0  1.0    0.0    0.0   1.0   32.0   \n",
      "99995              NaN  217.118.184.51    1.0  1.0    8.0    0.0   1.0   32.0   \n",
      "99996   203.246.146.19             NaN    1.0  1.0    8.0    0.0   1.0   32.0   \n",
      "99997   203.246.146.19     223.69.6.56    1.0  1.0    NaN    0.0   1.0   32.0   \n",
      "99998   203.246.146.19   14.109.167.54    1.0  1.0    8.0    NaN   1.0   32.0   \n",
      "\n",
      "       flows         first        latest  \n",
      "0        1.0  1.491970e+09  1.491970e+09  \n",
      "1        1.0           NaN           NaN  \n",
      "2        1.0  1.491970e+09  1.491970e+09  \n",
      "3        1.0  1.491970e+09  1.491970e+09  \n",
      "4        1.0  1.491970e+09           NaN  \n",
      "...      ...           ...           ...  \n",
      "99994    1.0           NaN  1.491970e+09  \n",
      "99995    1.0  1.491970e+09  1.491970e+09  \n",
      "99996    1.0  1.491970e+09  1.491970e+09  \n",
      "99997    NaN  1.491970e+09  1.491970e+09  \n",
      "99998    1.0  1.491970e+09  1.491970e+09  \n",
      "\n",
      "[99999 rows x 11 columns]\n"
     ]
    }
   ],
   "source": [
    "txt_data_unclean = pd.read_table('/Users/jdszsl/Desktop/Aalto/Aalto-Communications Engineering/ELEC-E7130 - Internet Traffic Measurements and Analysis/Assignments/Assignment4/data/flowdata_unclean.txt')\n",
    "print(txt_data_unclean)"
   ]
  },
  {
   "cell_type": "code",
   "execution_count": 17,
   "metadata": {},
   "outputs": [
    {
     "name": "stdout",
     "output_type": "stream",
     "text": [
      "                  src             dst  proto   ok    sport    dport  pkts  \\\n",
      "0      203.246.146.19    106.22.48.22    1.0  1.0      8.0      0.0   1.0   \n",
      "2      176.52.159.166  203.246.146.19    1.0  1.0      0.0      0.0   1.0   \n",
      "3      203.246.146.19       5.57.5.49    1.0  1.0      8.0      0.0   1.0   \n",
      "5      101.156.145.60  133.60.159.199    6.0  1.0   1214.0    445.0   2.0   \n",
      "6      203.246.146.19    71.32.111.81    1.0  1.0      8.0      0.0   1.0   \n",
      "...               ...             ...    ...  ...      ...      ...   ...   \n",
      "99983  203.246.146.19   23.165.233.49    1.0  1.0      8.0      0.0   1.0   \n",
      "99986  203.246.146.19   151.239.20.67    1.0  1.0      8.0      0.0   1.0   \n",
      "99989   124.38.25.158   150.51.193.53    6.0  1.0  40193.0  54756.0   2.0   \n",
      "99991    104.97.50.56  203.246.146.19    1.0  1.0      0.0      0.0   1.0   \n",
      "99993  54.183.251.137  203.246.146.19    1.0  1.0      0.0      0.0   1.0   \n",
      "\n",
      "       bytes  flows         first        latest  \n",
      "0       32.0    1.0  1.491970e+09  1.491970e+09  \n",
      "2       32.0    1.0  1.491970e+09  1.491970e+09  \n",
      "3       32.0    1.0  1.491970e+09  1.491970e+09  \n",
      "5       96.0    1.0  1.491970e+09  1.491970e+09  \n",
      "6       32.0    1.0  1.491970e+09  1.491970e+09  \n",
      "...      ...    ...           ...           ...  \n",
      "99983   32.0    1.0  1.491970e+09  1.491970e+09  \n",
      "99986   32.0    1.0  1.491970e+09  1.491970e+09  \n",
      "99989  104.0    1.0  1.491970e+09  1.491970e+09  \n",
      "99991   32.0    1.0  1.491970e+09  1.491970e+09  \n",
      "99993   32.0    1.0  1.491970e+09  1.491970e+09  \n",
      "\n",
      "[56796 rows x 11 columns]\n"
     ]
    }
   ],
   "source": [
    "txt_data_clean = txt_data_unclean.dropna()\n",
    "print(txt_data_clean)"
   ]
  },
  {
   "cell_type": "code",
   "execution_count": 11,
   "metadata": {},
   "outputs": [
    {
     "name": "stdout",
     "output_type": "stream",
     "text": [
      "[ 32.  32.  32. ... 104.  32.  32.]\n"
     ]
    }
   ],
   "source": [
    "txt_bytes = txt_data_clean.iloc[:,7].to_numpy()\n",
    "print(txt_bytes)"
   ]
  },
  {
   "cell_type": "code",
   "execution_count": 13,
   "metadata": {},
   "outputs": [],
   "source": [
    "label = []\n",
    "for i in txt_bytes:\n",
    "    if i >=50:\n",
    "        label.append(1)\n",
    "    else:\n",
    "        label.append(0)"
   ]
  },
  {
   "cell_type": "code",
   "execution_count": 22,
   "metadata": {},
   "outputs": [],
   "source": [
    "txt_data_clean = txt_data_clean.assign(Y=label)"
   ]
  },
  {
   "cell_type": "code",
   "execution_count": 23,
   "metadata": {},
   "outputs": [],
   "source": [
    "txt_data_clean.to_csv('/Users/jdszsl/Desktop/Aalto/Aalto-Communications Engineering/ELEC-E7130 - Internet Traffic Measurements and Analysis/Assignments/Assignment4/data/flowdata_clean.csv', sep=',', header=True, index=True)\n",
    "\n"
   ]
  },
  {
   "cell_type": "code",
   "execution_count": null,
   "metadata": {},
   "outputs": [],
   "source": []
  }
 ],
 "metadata": {
  "kernelspec": {
   "display_name": "Python 3",
   "language": "python",
   "name": "python3"
  },
  "language_info": {
   "codemirror_mode": {
    "name": "ipython",
    "version": 3
   },
   "file_extension": ".py",
   "mimetype": "text/x-python",
   "name": "python",
   "nbconvert_exporter": "python",
   "pygments_lexer": "ipython3",
   "version": "3.7.6"
  }
 },
 "nbformat": 4,
 "nbformat_minor": 4
}
